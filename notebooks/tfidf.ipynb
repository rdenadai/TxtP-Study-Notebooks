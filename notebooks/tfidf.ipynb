{
  "nbformat": 4,
  "nbformat_minor": 0,
  "metadata": {
    "colab": {
      "name": "tfidf.ipynb",
      "version": "0.3.2",
      "provenance": [],
      "include_colab_link": true
    },
    "kernelspec": {
      "name": "python3",
      "display_name": "Python 3"
    }
  },
  "cells": [
    {
      "cell_type": "markdown",
      "metadata": {
        "id": "view-in-github",
        "colab_type": "text"
      },
      "source": [
        "[View in Colaboratory](https://colab.research.google.com/github/rdenadai/TxtP-Study-Notebooks/blob/master/notebooks/tfidf.ipynb)"
      ]
    },
    {
      "metadata": {
        "id": "3QSJK9CJIqbv",
        "colab_type": "text"
      },
      "cell_type": "markdown",
      "source": [
        ""
      ]
    },
    {
      "metadata": {
        "id": "oR4l8XwJIrw8",
        "colab_type": "code",
        "colab": {
          "base_uri": "https://localhost:8080/",
          "height": 53
        },
        "outputId": "81ad20c4-fd3f-4f48-88c6-2ad025255a1f"
      },
      "cell_type": "code",
      "source": [
        "import re\n",
        "import nltk\n",
        "import numpy as np\n",
        "import pandas as pd\n",
        "import matplotlib.pyplot as plt\n",
        "\n",
        "%matplotlib inline\n",
        "\n",
        "np.warnings.filterwarnings('ignore')\n",
        "\n",
        "nltk.download('stopwords')\n",
        "\n",
        "from nltk.corpus import stopwords\n",
        "from nltk.stem import WordNetLemmatizer\n",
        "from nltk.util import ngrams\n",
        "from sklearn.feature_extraction.stop_words import ENGLISH_STOP_WORDS"
      ],
      "execution_count": 2,
      "outputs": [
        {
          "output_type": "stream",
          "text": [
            "[nltk_data] Downloading package stopwords to /root/nltk_data...\n",
            "[nltk_data]   Package stopwords is already up-to-date!\n"
          ],
          "name": "stdout"
        }
      ]
    },
    {
      "metadata": {
        "id": "Ebm06yyDIoCR",
        "colab_type": "code",
        "colab": {}
      },
      "cell_type": "code",
      "source": [
        "class TfidfImpl:\n",
        "\n",
        "    def bag_of_words(self, phrases):\n",
        "        bow = []\n",
        "        for phrase in phrases:\n",
        "            bow += phrase\n",
        "        return sorted(set(bow))\n",
        "\n",
        "\n",
        "    def compute_tf(self, words):\n",
        "        tf = {}\n",
        "        lbow = len(words)\n",
        "        for word in words:\n",
        "            tf[word] = tf.get(word, 0) + 1\n",
        "        for word, count in tf.items():\n",
        "            tf[word] = count / lbow\n",
        "        return tf\n",
        "\n",
        "\n",
        "    def compute_idf(self, phrases, N, bow):\n",
        "        idfs = {}\n",
        "        for df in bow:\n",
        "            idfs[df] = idfs.get(df, 0)\n",
        "            for words in phrases:\n",
        "                if df in words:\n",
        "                    idfs[df] = idfs.get(df, 0) + 1\n",
        "        for df in idfs.keys():\n",
        "            idfs[df] = np.log10(N / idfs[df])\n",
        "        return idfs\n",
        "\n",
        "\n",
        "    def compute(self, phrases):\n",
        "        tf_idf = {}\n",
        "        N = len(phrases)\n",
        "        bow = bag_of_words(phrases)\n",
        "        idf = compute_idf(phrases, N, bow)\n",
        "        for words in phrases:\n",
        "            tf = compute_tf(words)\n",
        "            for word, val in tf.items():\n",
        "                tf_idf[word] = val * idf[word]\n",
        "        return tf_idf"
      ],
      "execution_count": 0,
      "outputs": []
    },
    {
      "metadata": {
        "id": "_UxdWQQtI-jp",
        "colab_type": "code",
        "colab": {}
      },
      "cell_type": "code",
      "source": [
        ""
      ],
      "execution_count": 0,
      "outputs": []
    }
  ]
}